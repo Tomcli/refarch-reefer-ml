{
 "cells": [
  {
   "cell_type": "code",
   "execution_count": 1,
   "metadata": {},
   "outputs": [],
   "source": [
    "import pandas as pd\n",
    "import pylab as pl\n",
    "import numpy as np\n",
    "import scipy.optimize as opt\n",
    "from sklearn import preprocessing\n",
    "%matplotlib inline \n",
    "import matplotlib.pyplot as plt"
   ]
  },
  {
   "cell_type": "code",
   "execution_count": 2,
   "metadata": {
    "scrolled": true
   },
   "outputs": [
    {
     "data": {
      "text/html": [
       "<div>\n",
       "<style scoped>\n",
       "    .dataframe tbody tr th:only-of-type {\n",
       "        vertical-align: middle;\n",
       "    }\n",
       "\n",
       "    .dataframe tbody tr th {\n",
       "        vertical-align: top;\n",
       "    }\n",
       "\n",
       "    .dataframe thead th {\n",
       "        text-align: right;\n",
       "    }\n",
       "</style>\n",
       "<table border=\"1\" class=\"dataframe\">\n",
       "  <thead>\n",
       "    <tr style=\"text-align: right;\">\n",
       "      <th></th>\n",
       "      <th>container_id</th>\n",
       "      <th>measurement_time</th>\n",
       "      <th>product_id</th>\n",
       "      <th>temperature</th>\n",
       "      <th>target_temperature</th>\n",
       "      <th>ambiant_temperature</th>\n",
       "      <th>kilowatts</th>\n",
       "      <th>time_door_open</th>\n",
       "      <th>content_type</th>\n",
       "      <th>defrost_cycle</th>\n",
       "      <th>oxygen_level</th>\n",
       "      <th>nitrogen_level</th>\n",
       "      <th>humidity_level</th>\n",
       "      <th>carbon_dioxide_level</th>\n",
       "      <th>vent_1</th>\n",
       "      <th>vent_2</th>\n",
       "      <th>vent_3</th>\n",
       "      <th>maintenance_required</th>\n",
       "    </tr>\n",
       "  </thead>\n",
       "  <tbody>\n",
       "    <tr>\n",
       "      <th>0</th>\n",
       "      <td>C01</td>\n",
       "      <td>2019-09-27 21:54:02.041910</td>\n",
       "      <td>P02</td>\n",
       "      <td>5.801218</td>\n",
       "      <td>6</td>\n",
       "      <td>19.293892</td>\n",
       "      <td>1.414317</td>\n",
       "      <td>0.093343</td>\n",
       "      <td>2</td>\n",
       "      <td>6</td>\n",
       "      <td>21.488868</td>\n",
       "      <td>77.557735</td>\n",
       "      <td>58.577669</td>\n",
       "      <td>3.967578</td>\n",
       "      <td>True</td>\n",
       "      <td>True</td>\n",
       "      <td>True</td>\n",
       "      <td>0</td>\n",
       "    </tr>\n",
       "    <tr>\n",
       "      <th>1</th>\n",
       "      <td>C01</td>\n",
       "      <td>2019-09-27 21:59:02.041910</td>\n",
       "      <td>P02</td>\n",
       "      <td>8.139679</td>\n",
       "      <td>6</td>\n",
       "      <td>19.879705</td>\n",
       "      <td>2.084797</td>\n",
       "      <td>1.195522</td>\n",
       "      <td>2</td>\n",
       "      <td>6</td>\n",
       "      <td>21.937200</td>\n",
       "      <td>79.670586</td>\n",
       "      <td>60.152467</td>\n",
       "      <td>4.259016</td>\n",
       "      <td>True</td>\n",
       "      <td>True</td>\n",
       "      <td>True</td>\n",
       "      <td>0</td>\n",
       "    </tr>\n",
       "    <tr>\n",
       "      <th>2</th>\n",
       "      <td>C01</td>\n",
       "      <td>2019-09-27 22:04:02.041910</td>\n",
       "      <td>P02</td>\n",
       "      <td>4.656885</td>\n",
       "      <td>6</td>\n",
       "      <td>20.075523</td>\n",
       "      <td>2.175846</td>\n",
       "      <td>1.660254</td>\n",
       "      <td>2</td>\n",
       "      <td>6</td>\n",
       "      <td>19.944081</td>\n",
       "      <td>76.443221</td>\n",
       "      <td>58.927658</td>\n",
       "      <td>2.909839</td>\n",
       "      <td>True</td>\n",
       "      <td>True</td>\n",
       "      <td>True</td>\n",
       "      <td>0</td>\n",
       "    </tr>\n",
       "    <tr>\n",
       "      <th>3</th>\n",
       "      <td>C01</td>\n",
       "      <td>2019-09-27 22:09:02.041910</td>\n",
       "      <td>P02</td>\n",
       "      <td>7.994605</td>\n",
       "      <td>6</td>\n",
       "      <td>20.523734</td>\n",
       "      <td>3.265800</td>\n",
       "      <td>0.866216</td>\n",
       "      <td>2</td>\n",
       "      <td>5</td>\n",
       "      <td>20.705276</td>\n",
       "      <td>78.670985</td>\n",
       "      <td>60.702761</td>\n",
       "      <td>3.740478</td>\n",
       "      <td>True</td>\n",
       "      <td>True</td>\n",
       "      <td>True</td>\n",
       "      <td>0</td>\n",
       "    </tr>\n",
       "    <tr>\n",
       "      <th>4</th>\n",
       "      <td>C01</td>\n",
       "      <td>2019-09-27 22:14:02.041910</td>\n",
       "      <td>P02</td>\n",
       "      <td>6.677899</td>\n",
       "      <td>6</td>\n",
       "      <td>19.465233</td>\n",
       "      <td>3.549412</td>\n",
       "      <td>0.553271</td>\n",
       "      <td>2</td>\n",
       "      <td>3</td>\n",
       "      <td>20.414611</td>\n",
       "      <td>77.216359</td>\n",
       "      <td>59.876666</td>\n",
       "      <td>3.859622</td>\n",
       "      <td>True</td>\n",
       "      <td>True</td>\n",
       "      <td>True</td>\n",
       "      <td>0</td>\n",
       "    </tr>\n",
       "  </tbody>\n",
       "</table>\n",
       "</div>"
      ],
      "text/plain": [
       "  container_id            measurement_time product_id  temperature  \\\n",
       "0          C01  2019-09-27 21:54:02.041910        P02     5.801218   \n",
       "1          C01  2019-09-27 21:59:02.041910        P02     8.139679   \n",
       "2          C01  2019-09-27 22:04:02.041910        P02     4.656885   \n",
       "3          C01  2019-09-27 22:09:02.041910        P02     7.994605   \n",
       "4          C01  2019-09-27 22:14:02.041910        P02     6.677899   \n",
       "\n",
       "   target_temperature  ambiant_temperature  kilowatts  time_door_open  \\\n",
       "0                   6            19.293892   1.414317        0.093343   \n",
       "1                   6            19.879705   2.084797        1.195522   \n",
       "2                   6            20.075523   2.175846        1.660254   \n",
       "3                   6            20.523734   3.265800        0.866216   \n",
       "4                   6            19.465233   3.549412        0.553271   \n",
       "\n",
       "   content_type  defrost_cycle  oxygen_level  nitrogen_level  humidity_level  \\\n",
       "0             2              6     21.488868       77.557735       58.577669   \n",
       "1             2              6     21.937200       79.670586       60.152467   \n",
       "2             2              6     19.944081       76.443221       58.927658   \n",
       "3             2              5     20.705276       78.670985       60.702761   \n",
       "4             2              3     20.414611       77.216359       59.876666   \n",
       "\n",
       "   carbon_dioxide_level  vent_1  vent_2  vent_3  maintenance_required  \n",
       "0              3.967578    True    True    True                     0  \n",
       "1              4.259016    True    True    True                     0  \n",
       "2              2.909839    True    True    True                     0  \n",
       "3              3.740478    True    True    True                     0  \n",
       "4              3.859622    True    True    True                     0  "
      ]
     },
     "execution_count": 2,
     "metadata": {},
     "output_type": "execute_result"
    }
   ],
   "source": [
    "# Importing dataset - the generated simulator data\n",
    "data = pd.read_csv('./data/telemetries.csv', delimiter=\",\")\n",
    "data.head()"
   ]
  },
  {
   "cell_type": "code",
   "execution_count": 3,
   "metadata": {},
   "outputs": [
    {
     "data": {
      "text/plain": [
       "array([[5.801218101039296, 6, 19.293892162851392, 21.488868091125628,\n",
       "        3.9675781469739313, 58.57766853778072, 77.5577346448344, True,\n",
       "        True, True, 1.4143165258079469, 2, 0.09334288963665427, 0, 6],\n",
       "       [8.139679180971088, 6, 19.87970528601639, 21.937200152599225,\n",
       "        4.259015540335309, 60.15246724731424, 79.67058556875925, True,\n",
       "        True, True, 2.084797485117284, 2, 1.1955217552324195, 0, 6],\n",
       "       [4.656885317550969, 6, 20.075522821805052, 19.94408125476384,\n",
       "        2.9098393122905755, 58.9276575051969, 76.4432213124181, True,\n",
       "        True, True, 2.1758457919224545, 2, 1.6602539867936046, 0, 6],\n",
       "       [7.994605312622799, 6, 20.523734411015692, 20.705275848531645,\n",
       "        3.740477993264582, 60.702761422484514, 78.67098541815523, True,\n",
       "        True, True, 3.2657995708778937, 2, 0.8662160581206455, 0, 5],\n",
       "       [6.677899073907494, 6, 19.465232505640827, 20.41461138285295,\n",
       "        3.859622001609912, 59.87666604626664, 77.21635894583027, True,\n",
       "        True, True, 3.5494118022444217, 2, 0.5532707967489936, 0, 3]],\n",
       "      dtype=object)"
      ]
     },
     "execution_count": 3,
     "metadata": {},
     "output_type": "execute_result"
    }
   ],
   "source": [
    "# Convert dataset into array for the independent variables (features)\n",
    "X = np.asarray(data[['temperature','target_temperature','ambiant_temperature','oxygen_level','carbon_dioxide_level','humidity_level','nitrogen_level','vent_1','vent_2','vent_3','kilowatts','content_type','time_door_open','maintenance_required','defrost_cycle']])\n",
    "X[0:5]"
   ]
  },
  {
   "cell_type": "code",
   "execution_count": 4,
   "metadata": {},
   "outputs": [
    {
     "data": {
      "text/plain": [
       "array([0, 0, 0, 0, 0])"
      ]
     },
     "execution_count": 4,
     "metadata": {},
     "output_type": "execute_result"
    }
   ],
   "source": [
    "# Convert dataset into array for the dependent (objective) variables\n",
    "y = np.asarray(data['maintenance_required'])\n",
    "y [0:5]"
   ]
  },
  {
   "cell_type": "code",
   "execution_count": 5,
   "metadata": {},
   "outputs": [
    {
     "data": {
      "text/plain": [
       "array([[-0.21417791,  0.        , -0.70454156,  0.40096851, -0.15885105,\n",
       "        -1.41870193, -0.4709387 ,  0.14040826,  0.14040826,  0.14040826,\n",
       "        -1.15454468,  0.        , -0.93907679, -0.23813884,  1.35699153],\n",
       "       [ 2.08838023,  0.        , -0.12736646,  0.66445228,  0.00905081,\n",
       "         0.17421205,  1.66131592,  0.14040826,  0.14040826,  0.14040826,\n",
       "        -0.52696427,  0.        ,  0.17618315, -0.23813884,  1.35699153],\n",
       "       [-1.34094148,  0.        ,  0.06556368, -0.50689932, -0.76823172,\n",
       "        -1.06468696, -1.59568733,  0.14040826,  0.14040826,  0.14040826,\n",
       "        -0.44174166,  0.        ,  0.64643099, -0.23813884,  1.35699153],\n",
       "       [ 1.94553372,  0.        ,  0.50716623, -0.05954693, -0.28968717,\n",
       "         0.73083639,  0.65253579,  0.14040826,  0.14040826,  0.14040826,\n",
       "         0.5784717 ,  0.        , -0.15703087, -0.23813884,  0.4577261 ],\n",
       "       [ 0.64904318,  0.        , -0.53572769, -0.2303698 , -0.22104635,\n",
       "        -0.10476176, -0.81544947,  0.14040826,  0.14040826,  0.14040826,\n",
       "         0.84393708,  0.        , -0.47369028, -0.23813884, -1.34080475]])"
      ]
     },
     "execution_count": 5,
     "metadata": {},
     "output_type": "execute_result"
    }
   ],
   "source": [
    "# Normalize/standardize (mean = 0 and standard deviation = 1) \n",
    "# your features before applying machine learning techniques.\n",
    "from sklearn import preprocessing\n",
    "X = preprocessing.StandardScaler().fit(X).transform(X)\n",
    "X[0:5]"
   ]
  },
  {
   "cell_type": "code",
   "execution_count": 6,
   "metadata": {},
   "outputs": [
    {
     "name": "stdout",
     "output_type": "stream",
     "text": [
      "Train set: (2400, 15) (2400,)\n",
      "Test set: (600, 15) (600,)\n"
     ]
    }
   ],
   "source": [
    "## split the dataset into train and test to estiamte model accuracy \n",
    "from sklearn.model_selection import train_test_split\n",
    "X_train, X_test, y_train, y_test = train_test_split( X, y, test_size=0.2, random_state=4)\n",
    "print ('Train set:', X_train.shape,  y_train.shape)\n",
    "print ('Test set:', X_test.shape,  y_test.shape)"
   ]
  },
  {
   "cell_type": "code",
   "execution_count": 7,
   "metadata": {},
   "outputs": [
    {
     "data": {
      "text/plain": [
       "LogisticRegression(C=0.01, class_weight=None, dual=False, fit_intercept=True,\n",
       "                   intercept_scaling=1, l1_ratio=None, max_iter=100,\n",
       "                   multi_class='warn', n_jobs=None, penalty='l2',\n",
       "                   random_state=None, solver='liblinear', tol=0.0001, verbose=0,\n",
       "                   warm_start=False)"
      ]
     },
     "execution_count": 7,
     "metadata": {},
     "output_type": "execute_result"
    }
   ],
   "source": [
    "## As we are trying to acheive a binary classification, we use Logistic Regression model\n",
    "from sklearn.linear_model import LogisticRegression\n",
    "from sklearn.metrics import confusion_matrix\n",
    "LR = LogisticRegression(C=0.01, solver='liblinear').fit(X_train,y_train)\n",
    "LR"
   ]
  },
  {
   "cell_type": "code",
   "execution_count": 8,
   "metadata": {},
   "outputs": [
    {
     "data": {
      "text/plain": [
       "array([0, 0, 0, 0, 0, 0, 0, 0, 0, 0, 0, 0, 0, 0, 0, 1, 0, 0, 0, 0, 0, 0,\n",
       "       0, 0, 0, 0, 0, 0, 0, 0, 0, 0, 1, 0, 1, 0, 1, 0, 0, 0, 0, 1, 0, 0,\n",
       "       0, 0, 0, 0, 0, 0, 0, 0, 0, 1, 0, 0, 0, 0, 0, 0, 0, 0, 0, 0, 1, 0,\n",
       "       0, 0, 0, 0, 0, 0, 0, 0, 1, 0, 0, 0, 0, 0, 0, 0, 0, 0, 0, 0, 0, 0,\n",
       "       0, 0, 0, 0, 0, 0, 0, 0, 0, 0, 0, 0, 0, 0, 0, 0, 0, 0, 0, 0, 0, 0,\n",
       "       0, 0, 0, 0, 0, 0, 0, 1, 0, 0, 0, 0, 0, 0, 0, 0, 0, 0, 0, 0, 0, 0,\n",
       "       0, 0, 0, 0, 0, 0, 0, 1, 0, 0, 0, 0, 0, 0, 0, 0, 0, 0, 0, 0, 0, 0,\n",
       "       0, 0, 0, 0, 0, 0, 0, 0, 0, 1, 0, 0, 0, 0, 0, 0, 0, 0, 0, 0, 0, 0,\n",
       "       0, 0, 0, 0, 0, 0, 0, 0, 0, 0, 0, 0, 0, 0, 0, 0, 0, 1, 0, 1, 0, 0,\n",
       "       0, 0, 0, 0, 0, 0, 0, 0, 0, 0, 0, 0, 0, 0, 0, 0, 0, 0, 0, 0, 0, 0,\n",
       "       0, 0, 0, 0, 1, 0, 1, 0, 0, 1, 0, 0, 0, 1, 0, 0, 0, 0, 0, 0, 0, 0,\n",
       "       0, 0, 0, 0, 0, 0, 0, 0, 0, 1, 0, 0, 0, 0, 0, 0, 0, 0, 0, 0, 0, 0,\n",
       "       0, 1, 0, 0, 1, 0, 0, 0, 0, 0, 0, 0, 0, 0, 0, 0, 0, 0, 0, 0, 0, 0,\n",
       "       0, 1, 0, 0, 0, 0, 0, 0, 0, 0, 0, 0, 0, 0, 0, 0, 0, 0, 0, 0, 0, 0,\n",
       "       0, 0, 0, 0, 0, 0, 0, 0, 0, 0, 0, 0, 0, 0, 0, 0, 0, 0, 0, 0, 0, 1,\n",
       "       0, 0, 0, 1, 0, 0, 0, 0, 0, 0, 0, 0, 0, 0, 0, 0, 0, 0, 0, 0, 0, 0,\n",
       "       0, 0, 0, 0, 0, 0, 0, 1, 0, 0, 0, 0, 0, 0, 0, 0, 0, 0, 0, 0, 0, 0,\n",
       "       0, 0, 0, 0, 0, 0, 0, 0, 0, 0, 0, 0, 1, 0, 0, 1, 0, 0, 1, 0, 0, 0,\n",
       "       0, 0, 0, 1, 0, 0, 0, 0, 0, 0, 0, 0, 0, 0, 0, 0, 0, 0, 0, 0, 0, 0,\n",
       "       0, 0, 0, 0, 0, 1, 0, 0, 0, 0, 0, 0, 0, 0, 0, 0, 0, 1, 0, 1, 0, 0,\n",
       "       0, 0, 0, 1, 0, 0, 0, 0, 0, 0, 0, 0, 0, 0, 0, 0, 0, 0, 0, 0, 0, 0,\n",
       "       0, 0, 0, 0, 0, 0, 0, 0, 0, 0, 0, 0, 0, 1, 0, 0, 0, 0, 0, 0, 0, 0,\n",
       "       0, 0, 0, 0, 0, 0, 0, 0, 0, 0, 0, 0, 0, 0, 1, 0, 1, 0, 0, 0, 0, 0,\n",
       "       0, 0, 0, 0, 0, 0, 0, 0, 0, 0, 0, 0, 0, 0, 0, 0, 0, 0, 0, 0, 1, 0,\n",
       "       0, 0, 0, 0, 0, 0, 0, 0, 0, 0, 0, 0, 0, 0, 0, 0, 0, 0, 0, 0, 0, 0,\n",
       "       0, 0, 0, 0, 0, 1, 0, 0, 0, 0, 0, 0, 1, 0, 0, 0, 0, 0, 0, 0, 0, 0,\n",
       "       0, 0, 1, 0, 0, 0, 0, 0, 0, 0, 0, 0, 0, 0, 0, 0, 0, 0, 0, 0, 0, 0,\n",
       "       1, 0, 0, 0, 0, 0])"
      ]
     },
     "execution_count": 8,
     "metadata": {},
     "output_type": "execute_result"
    }
   ],
   "source": [
    "## Predict using the trained LR model\n",
    "yhat = LR.predict(X_test)\n",
    "yhat"
   ]
  },
  {
   "cell_type": "code",
   "execution_count": 9,
   "metadata": {},
   "outputs": [
    {
     "data": {
      "text/plain": [
       "array([[0.90266541, 0.09733459],\n",
       "       [0.83933223, 0.16066777],\n",
       "       [0.90513623, 0.09486377],\n",
       "       ...,\n",
       "       [0.90826533, 0.09173467],\n",
       "       [0.92517656, 0.07482344],\n",
       "       [0.90737326, 0.09262674]])"
      ]
     },
     "execution_count": 9,
     "metadata": {},
     "output_type": "execute_result"
    }
   ],
   "source": [
    "yhat_prob = LR.predict_proba(X_test)\n",
    "yhat_prob"
   ]
  },
  {
   "cell_type": "code",
   "execution_count": 10,
   "metadata": {},
   "outputs": [
    {
     "data": {
      "text/plain": [
       "1.0"
      ]
     },
     "execution_count": 10,
     "metadata": {},
     "output_type": "execute_result"
    }
   ],
   "source": [
    "from sklearn.metrics import jaccard_score\n",
    "jaccard_score(y_test, yhat)"
   ]
  },
  {
   "cell_type": "code",
   "execution_count": 11,
   "metadata": {},
   "outputs": [],
   "source": [
    "from sklearn.metrics import classification_report, confusion_matrix\n",
    "import itertools\n",
    "def plot_confusion_matrix(cm, classes,\n",
    "                          normalize=False,\n",
    "                          title='Confusion matrix',\n",
    "                          cmap=plt.cm.Blues):\n",
    "    \"\"\"\n",
    "    This function prints and plots the confusion matrix.\n",
    "    Normalization can be applied by setting `normalize=True`.\n",
    "    \"\"\"\n",
    "    if normalize:\n",
    "        cm = cm.astype('float') / cm.sum(axis=1)[:, np.newaxis]\n",
    "        print(\"Normalized confusion matrix\")\n",
    "    else:\n",
    "        print('Confusion matrix, without normalization')\n",
    "\n",
    "    print(cm)\n",
    "\n",
    "    plt.imshow(cm, interpolation='nearest', cmap=cmap)\n",
    "    plt.title(title)\n",
    "    plt.colorbar()\n",
    "    tick_marks = np.arange(len(classes))\n",
    "    plt.xticks(tick_marks, classes, rotation=45)\n",
    "    plt.yticks(tick_marks, classes)\n",
    "\n",
    "    fmt = '.2f' if normalize else 'd'\n",
    "    thresh = cm.max() / 2.\n",
    "    for i, j in itertools.product(range(cm.shape[0]), range(cm.shape[1])):\n",
    "        plt.text(j, i, format(cm[i, j], fmt),\n",
    "                 horizontalalignment=\"center\",\n",
    "                 color=\"white\" if cm[i, j] > thresh else \"black\")\n",
    "\n",
    "    plt.tight_layout()\n",
    "    plt.ylabel('True label')\n",
    "    plt.xlabel('Predicted label')\n",
    "    print(confusion_matrix(y_test, yhat, labels=[1,0]))"
   ]
  },
  {
   "cell_type": "code",
   "execution_count": 12,
   "metadata": {},
   "outputs": [
    {
     "name": "stdout",
     "output_type": "stream",
     "text": [
      "Confusion matrix, without normalization\n",
      "[[ 40   0]\n",
      " [  0 560]]\n",
      "[[ 40   0]\n",
      " [  0 560]]\n"
     ]
    },
    {
     "data": {
      "image/png": "[encoded data removed]",
      "text/plain": [
       "<Figure size 432x288 with 2 Axes>"
      ]
     },
     "metadata": {
      "needs_background": "light"
     },
     "output_type": "display_data"
    }
   ],
   "source": [
    "# Compute confusion matrix\n",
    "cnf_matrix = confusion_matrix(y_test, yhat, labels=[1,0])\n",
    "np.set_printoptions(precision=2)\n",
    "\n",
    "\n",
    "# Plot non-normalized confusion matrix\n",
    "plt.figure()\n",
    "plot_confusion_matrix(cnf_matrix, classes=['MaintFlag=1','MaintFlag=0'],normalize= False,  title='Confusion matrix')"
   ]
  },
  {
   "cell_type": "code",
   "execution_count": 13,
   "metadata": {},
   "outputs": [
    {
     "name": "stdout",
     "output_type": "stream",
     "text": [
      "              precision    recall  f1-score   support\n",
      "\n",
      "           0       1.00      1.00      1.00       560\n",
      "           1       1.00      1.00      1.00        40\n",
      "\n",
      "    accuracy                           1.00       600\n",
      "   macro avg       1.00      1.00      1.00       600\n",
      "weighted avg       1.00      1.00      1.00       600\n",
      "\n"
     ]
    }
   ],
   "source": [
    "print (classification_report(y_test, yhat))\n"
   ]
  },
  {
   "cell_type": "code",
   "execution_count": 14,
   "metadata": {},
   "outputs": [
    {
     "data": {
      "text/plain": [
       "0.09214778391001624"
      ]
     },
     "execution_count": 14,
     "metadata": {},
     "output_type": "execute_result"
    }
   ],
   "source": [
    "\n",
    "from sklearn.metrics import log_loss\n",
    "log_loss(y_test, yhat_prob)\n"
   ]
  },
  {
   "cell_type": "code",
   "execution_count": 15,
   "metadata": {},
   "outputs": [],
   "source": [
    "import pickle\n",
    "\n",
    "#serializing our model to a file called model_logistic_regression.pkl\n",
    "pickle.dump(LR, open(\"model_logistic_regression.pkl\",\"wb\"))"
   ]
  }
 ],
 "metadata": {
  "kernelspec": {
   "display_name": "Python 3",
   "language": "python",
   "name": "python3"
  },
  "language_info": {
   "codemirror_mode": {
    "name": "ipython",
    "version": 3
   },
   "file_extension": ".py",
   "mimetype": "text/x-python",
   "name": "python",
   "nbconvert_exporter": "python",
   "pygments_lexer": "ipython3",
   "version": "3.7.3"
  }
 },
 "nbformat": 4,
 "nbformat_minor": 2
}
