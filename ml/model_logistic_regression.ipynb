{
 "cells": [
  {
   "cell_type": "code",
   "execution_count": 1,
   "metadata": {},
   "outputs": [],
   "source": [
    "import pandas as pd\n",
    "import pylab as pl\n",
    "import numpy as np\n",
    "import scipy.optimize as opt\n",
    "from sklearn import preprocessing\n",
    "%matplotlib inline \n",
    "import matplotlib.pyplot as plt"
   ]
  },
  {
   "cell_type": "code",
   "execution_count": 2,
   "metadata": {},
   "outputs": [
    {
     "data": {
      "text/html": [
       "<div>\n",
       "<style scoped>\n",
       "    .dataframe tbody tr th:only-of-type {\n",
       "        vertical-align: middle;\n",
       "    }\n",
       "\n",
       "    .dataframe tbody tr th {\n",
       "        vertical-align: top;\n",
       "    }\n",
       "\n",
       "    .dataframe thead th {\n",
       "        text-align: right;\n",
       "    }\n",
       "</style>\n",
       "<table border=\"1\" class=\"dataframe\">\n",
       "  <thead>\n",
       "    <tr style=\"text-align: right;\">\n",
       "      <th></th>\n",
       "      <th>Unnamed: 0</th>\n",
       "      <th>Timestamp</th>\n",
       "      <th>ID</th>\n",
       "      <th>Temperature(celsius)</th>\n",
       "      <th>Target_Temperature(celsius)</th>\n",
       "      <th>Power</th>\n",
       "      <th>PowerConsumption</th>\n",
       "      <th>ContentType</th>\n",
       "      <th>O2</th>\n",
       "      <th>CO2</th>\n",
       "      <th>Time_Door_Open</th>\n",
       "      <th>Maintenance_Required</th>\n",
       "      <th>Defrost_Cycle</th>\n",
       "    </tr>\n",
       "  </thead>\n",
       "  <tbody>\n",
       "    <tr>\n",
       "      <th>0</th>\n",
       "      <td>0</td>\n",
       "      <td>2019-09-04 T15:31 Z</td>\n",
       "      <td>101</td>\n",
       "      <td>4.470475</td>\n",
       "      <td>4</td>\n",
       "      <td>14.490263</td>\n",
       "      <td>16.642944</td>\n",
       "      <td>3</td>\n",
       "      <td>26.764242</td>\n",
       "      <td>4.399405</td>\n",
       "      <td>32.833310</td>\n",
       "      <td>0</td>\n",
       "      <td>2</td>\n",
       "    </tr>\n",
       "    <tr>\n",
       "      <th>1</th>\n",
       "      <td>1</td>\n",
       "      <td>2019-09-04 T15:46 Z</td>\n",
       "      <td>101</td>\n",
       "      <td>6.432356</td>\n",
       "      <td>4</td>\n",
       "      <td>13.685369</td>\n",
       "      <td>30.328313</td>\n",
       "      <td>3</td>\n",
       "      <td>19.054393</td>\n",
       "      <td>3.592162</td>\n",
       "      <td>32.082549</td>\n",
       "      <td>0</td>\n",
       "      <td>5</td>\n",
       "    </tr>\n",
       "    <tr>\n",
       "      <th>2</th>\n",
       "      <td>2</td>\n",
       "      <td>2019-09-04 T16:01 Z</td>\n",
       "      <td>101</td>\n",
       "      <td>4.382502</td>\n",
       "      <td>4</td>\n",
       "      <td>7.872927</td>\n",
       "      <td>38.201240</td>\n",
       "      <td>3</td>\n",
       "      <td>16.766289</td>\n",
       "      <td>4.586092</td>\n",
       "      <td>32.059170</td>\n",
       "      <td>0</td>\n",
       "      <td>2</td>\n",
       "    </tr>\n",
       "    <tr>\n",
       "      <th>3</th>\n",
       "      <td>3</td>\n",
       "      <td>2019-09-04 T16:16 Z</td>\n",
       "      <td>101</td>\n",
       "      <td>4.150252</td>\n",
       "      <td>4</td>\n",
       "      <td>10.589863</td>\n",
       "      <td>48.791103</td>\n",
       "      <td>3</td>\n",
       "      <td>25.604127</td>\n",
       "      <td>2.427279</td>\n",
       "      <td>34.829726</td>\n",
       "      <td>0</td>\n",
       "      <td>5</td>\n",
       "    </tr>\n",
       "    <tr>\n",
       "      <th>4</th>\n",
       "      <td>4</td>\n",
       "      <td>2019-09-04 T16:31 Z</td>\n",
       "      <td>101</td>\n",
       "      <td>6.647281</td>\n",
       "      <td>4</td>\n",
       "      <td>5.910298</td>\n",
       "      <td>54.701401</td>\n",
       "      <td>3</td>\n",
       "      <td>18.399625</td>\n",
       "      <td>-1.437193</td>\n",
       "      <td>28.962721</td>\n",
       "      <td>0</td>\n",
       "      <td>3</td>\n",
       "    </tr>\n",
       "  </tbody>\n",
       "</table>\n",
       "</div>"
      ],
      "text/plain": [
       "   Unnamed: 0            Timestamp   ID  Temperature(celsius)  \\\n",
       "0           0  2019-09-04 T15:31 Z  101              4.470475   \n",
       "1           1  2019-09-04 T15:46 Z  101              6.432356   \n",
       "2           2  2019-09-04 T16:01 Z  101              4.382502   \n",
       "3           3  2019-09-04 T16:16 Z  101              4.150252   \n",
       "4           4  2019-09-04 T16:31 Z  101              6.647281   \n",
       "\n",
       "   Target_Temperature(celsius)      Power  PowerConsumption  ContentType  \\\n",
       "0                            4  14.490263         16.642944            3   \n",
       "1                            4  13.685369         30.328313            3   \n",
       "2                            4   7.872927         38.201240            3   \n",
       "3                            4  10.589863         48.791103            3   \n",
       "4                            4   5.910298         54.701401            3   \n",
       "\n",
       "          O2       CO2  Time_Door_Open  Maintenance_Required  Defrost_Cycle  \n",
       "0  26.764242  4.399405       32.833310                     0              2  \n",
       "1  19.054393  3.592162       32.082549                     0              5  \n",
       "2  16.766289  4.586092       32.059170                     0              2  \n",
       "3  25.604127  2.427279       34.829726                     0              5  \n",
       "4  18.399625 -1.437193       28.962721                     0              3  "
      ]
     },
     "execution_count": 2,
     "metadata": {},
     "output_type": "execute_result"
    }
   ],
   "source": [
    "# Importing dataset - the generated simulator data\n",
    "data = pd.read_csv('./data/metrics.csv', delimiter=\",\")\n",
    "data.head()"
   ]
  },
  {
   "cell_type": "code",
   "execution_count": 3,
   "metadata": {},
   "outputs": [
    {
     "data": {
      "text/plain": [
       "array([[ 4.47047541,  4.        , 14.49026261, 16.6429438 ,  3.        ,\n",
       "        26.76424173,  4.39940454, 32.83331025,  0.        ,  2.        ],\n",
       "       [ 6.43235563,  4.        , 13.68536931, 30.32831311,  3.        ,\n",
       "        19.05439306,  3.59216173, 32.08254871,  0.        ,  5.        ],\n",
       "       [ 4.38250182,  4.        ,  7.87292727, 38.20124038,  3.        ,\n",
       "        16.76628908,  4.58609188, 32.05917021,  0.        ,  2.        ],\n",
       "       [ 4.15025193,  4.        , 10.58986264, 48.79110303,  3.        ,\n",
       "        25.60412713,  2.42727884, 34.82972619,  0.        ,  5.        ],\n",
       "       [ 6.64728075,  4.        ,  5.91029756, 54.70140059,  3.        ,\n",
       "        18.39962478, -1.43719338, 28.96272144,  0.        ,  3.        ]])"
      ]
     },
     "execution_count": 3,
     "metadata": {},
     "output_type": "execute_result"
    }
   ],
   "source": [
    "# Convert dataset into array for the independent variables (features)\n",
    "X = np.asarray(data[['Temperature(celsius)','Target_Temperature(celsius)','Power','PowerConsumption','ContentType','O2','CO2','Time_Door_Open','Maintenance_Required','Defrost_Cycle']])\n",
    "X[0:5]"
   ]
  },
  {
   "cell_type": "code",
   "execution_count": 4,
   "metadata": {},
   "outputs": [
    {
     "data": {
      "text/plain": [
       "array([0, 0, 0, 0, 0])"
      ]
     },
     "execution_count": 4,
     "metadata": {},
     "output_type": "execute_result"
    }
   ],
   "source": [
    "# Convert dataset into array for the dependent (objective) variables\n",
    "y = np.asarray(data['Maintenance_Required'])\n",
    "#y = np.asarray(data['Maintainence_Required'])\n",
    "y [0:5]"
   ]
  },
  {
   "cell_type": "code",
   "execution_count": 5,
   "metadata": {},
   "outputs": [
    {
     "data": {
      "text/plain": [
       "array([[ 0.07461925,  0.        ,  1.45342527, -0.77510426,  1.        ,\n",
       "         1.91177434,  0.12232963,  1.4047263 , -0.69784586, -0.50280399],\n",
       "       [ 0.31835587,  0.        ,  1.31766167, -0.77315237,  1.        ,\n",
       "        -0.63418464, -0.14240993,  1.02707857, -0.69784586,  0.97917927],\n",
       "       [ 0.06368975,  0.        ,  0.3372608 , -0.77202948,  1.        ,\n",
       "        -1.38976613,  0.18355473,  1.01531872, -0.69784586, -0.50280399],\n",
       "       [ 0.03483589,  0.        ,  0.79553389, -0.77051909,  1.        ,\n",
       "         1.52867938, -0.52443946,  2.40896253, -0.69784586,  0.97917927],\n",
       "       [ 0.34505736,  0.        ,  0.00621856, -0.76967612,  1.        ,\n",
       "        -0.85040331, -1.79181362, -0.54225552, -0.69784586, -0.00880957]])"
      ]
     },
     "execution_count": 5,
     "metadata": {},
     "output_type": "execute_result"
    }
   ],
   "source": [
    "# Normalize/standardize (mean = 0 and standard deviation = 1) \n",
    "# your features before applying machine learning techniques.\n",
    "from sklearn import preprocessing\n",
    "X = preprocessing.StandardScaler().fit(X).transform(X)\n",
    "X[0:5]"
   ]
  },
  {
   "cell_type": "code",
   "execution_count": 6,
   "metadata": {},
   "outputs": [
    {
     "name": "stdout",
     "output_type": "stream",
     "text": [
      "Train set: (4800, 10) (4800,)\n",
      "Test set: (1200, 10) (1200,)\n"
     ]
    }
   ],
   "source": [
    "## split the dataset into train and test to estiamte model accuracy \n",
    "from sklearn.model_selection import train_test_split\n",
    "X_train, X_test, y_train, y_test = train_test_split( X, y, test_size=0.2, random_state=4)\n",
    "print ('Train set:', X_train.shape,  y_train.shape)\n",
    "print ('Test set:', X_test.shape,  y_test.shape)"
   ]
  },
  {
   "cell_type": "code",
   "execution_count": 7,
   "metadata": {},
   "outputs": [
    {
     "data": {
      "text/plain": [
       "LogisticRegression(C=0.01, class_weight=None, dual=False, fit_intercept=True,\n",
       "                   intercept_scaling=1, l1_ratio=None, max_iter=100,\n",
       "                   multi_class='warn', n_jobs=None, penalty='l2',\n",
       "                   random_state=None, solver='liblinear', tol=0.0001, verbose=0,\n",
       "                   warm_start=False)"
      ]
     },
     "execution_count": 7,
     "metadata": {},
     "output_type": "execute_result"
    }
   ],
   "source": [
    "## As we are trying to acheive a binary classification, we use Logistic Regression model\n",
    "from sklearn.linear_model import LogisticRegression\n",
    "from sklearn.metrics import confusion_matrix\n",
    "LR = LogisticRegression(C=0.01, solver='liblinear').fit(X_train,y_train)\n",
    "LR"
   ]
  },
  {
   "cell_type": "code",
   "execution_count": 8,
   "metadata": {},
   "outputs": [
    {
     "data": {
      "text/plain": [
       "array([0, 0, 0, ..., 1, 0, 0])"
      ]
     },
     "execution_count": 8,
     "metadata": {},
     "output_type": "execute_result"
    }
   ],
   "source": [
    "## Predict using the trained LR model\n",
    "yhat = LR.predict(X_test)\n",
    "yhat"
   ]
  },
  {
   "cell_type": "code",
   "execution_count": 9,
   "metadata": {},
   "outputs": [
    {
     "data": {
      "text/plain": [
       "array([[0.89224291, 0.10775709],\n",
       "       [0.96776386, 0.03223614],\n",
       "       [0.97759023, 0.02240977],\n",
       "       ...,\n",
       "       [0.04303962, 0.95696038],\n",
       "       [0.95692701, 0.04307299],\n",
       "       [0.97381292, 0.02618708]])"
      ]
     },
     "execution_count": 9,
     "metadata": {},
     "output_type": "execute_result"
    }
   ],
   "source": [
    "yhat_prob = LR.predict_proba(X_test)\n",
    "yhat_prob"
   ]
  },
  {
   "cell_type": "code",
   "execution_count": 10,
   "metadata": {},
   "outputs": [
    {
     "data": {
      "text/plain": [
       "1.0"
      ]
     },
     "execution_count": 10,
     "metadata": {},
     "output_type": "execute_result"
    }
   ],
   "source": [
    "from sklearn.metrics import jaccard_score\n",
    "jaccard_score(y_test, yhat)"
   ]
  },
  {
   "cell_type": "code",
   "execution_count": 11,
   "metadata": {},
   "outputs": [],
   "source": [
    "from sklearn.metrics import classification_report, confusion_matrix\n",
    "import itertools\n",
    "def plot_confusion_matrix(cm, classes,\n",
    "                          normalize=False,\n",
    "                          title='Confusion matrix',\n",
    "                          cmap=plt.cm.Blues):\n",
    "    \"\"\"\n",
    "    This function prints and plots the confusion matrix.\n",
    "    Normalization can be applied by setting `normalize=True`.\n",
    "    \"\"\"\n",
    "    if normalize:\n",
    "        cm = cm.astype('float') / cm.sum(axis=1)[:, np.newaxis]\n",
    "        print(\"Normalized confusion matrix\")\n",
    "    else:\n",
    "        print('Confusion matrix, without normalization')\n",
    "\n",
    "    print(cm)\n",
    "\n",
    "    plt.imshow(cm, interpolation='nearest', cmap=cmap)\n",
    "    plt.title(title)\n",
    "    plt.colorbar()\n",
    "    tick_marks = np.arange(len(classes))\n",
    "    plt.xticks(tick_marks, classes, rotation=45)\n",
    "    plt.yticks(tick_marks, classes)\n",
    "\n",
    "    fmt = '.2f' if normalize else 'd'\n",
    "    thresh = cm.max() / 2.\n",
    "    for i, j in itertools.product(range(cm.shape[0]), range(cm.shape[1])):\n",
    "        plt.text(j, i, format(cm[i, j], fmt),\n",
    "                 horizontalalignment=\"center\",\n",
    "                 color=\"white\" if cm[i, j] > thresh else \"black\")\n",
    "\n",
    "    plt.tight_layout()\n",
    "    plt.ylabel('True label')\n",
    "    plt.xlabel('Predicted label')\n",
    "    print(confusion_matrix(y_test, yhat, labels=[1,0]))"
   ]
  },
  {
   "cell_type": "code",
   "execution_count": 12,
   "metadata": {},
   "outputs": [
    {
     "name": "stdout",
     "output_type": "stream",
     "text": [
      "Confusion matrix, without normalization\n",
      "[[403   0]\n",
      " [  0 797]]\n",
      "[[403   0]\n",
      " [  0 797]]\n"
     ]
    },
    {
     "data": {
      "image/png": "[encoded data removed]",
      "text/plain": [
       "<Figure size 432x288 with 2 Axes>"
      ]
     },
     "metadata": {
      "needs_background": "light"
     },
     "output_type": "display_data"
    }
   ],
   "source": [
    "# Compute confusion matrix\n",
    "cnf_matrix = confusion_matrix(y_test, yhat, labels=[1,0])\n",
    "np.set_printoptions(precision=2)\n",
    "\n",
    "\n",
    "# Plot non-normalized confusion matrix\n",
    "plt.figure()\n",
    "plot_confusion_matrix(cnf_matrix, classes=['MaintFlag=1','MaintFlag=0'],normalize= False,  title='Confusion matrix')"
   ]
  },
  {
   "cell_type": "code",
   "execution_count": 13,
   "metadata": {},
   "outputs": [
    {
     "name": "stdout",
     "output_type": "stream",
     "text": [
      "              precision    recall  f1-score   support\n",
      "\n",
      "           0       1.00      1.00      1.00       797\n",
      "           1       1.00      1.00      1.00       403\n",
      "\n",
      "    accuracy                           1.00      1200\n",
      "   macro avg       1.00      1.00      1.00      1200\n",
      "weighted avg       1.00      1.00      1.00      1200\n",
      "\n"
     ]
    }
   ],
   "source": [
    "print (classification_report(y_test, yhat))\n"
   ]
  },
  {
   "cell_type": "code",
   "execution_count": 14,
   "metadata": {},
   "outputs": [
    {
     "data": {
      "text/plain": [
       "0.0569056334451907"
      ]
     },
     "execution_count": 14,
     "metadata": {},
     "output_type": "execute_result"
    }
   ],
   "source": [
    "\n",
    "from sklearn.metrics import log_loss\n",
    "log_loss(y_test, yhat_prob)\n"
   ]
  },
  {
   "cell_type": "code",
   "execution_count": 15,
   "metadata": {},
   "outputs": [],
   "source": [
    "import pickle\n",
    "\n",
    "#serializing our model to a file called model_logistic_regression.pkl\n",
    "pickle.dump(LR, open(\"model_logistic_regression.pkl\",\"wb\"))"
   ]
  }
 ],
 "metadata": {
  "kernelspec": {
   "display_name": "Python 3",
   "language": "python",
   "name": "python3"
  },
  "language_info": {
   "codemirror_mode": {
    "name": "ipython",
    "version": 3
   },
   "file_extension": ".py",
   "mimetype": "text/x-python",
   "name": "python",
   "nbconvert_exporter": "python",
   "pygments_lexer": "ipython3",
   "version": "3.7.3"
  }
 },
 "nbformat": 4,
 "nbformat_minor": 2
}
