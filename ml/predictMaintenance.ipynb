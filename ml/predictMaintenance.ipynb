{
 "cells": [
  {
   "cell_type": "code",
   "execution_count": 1,
   "metadata": {},
   "outputs": [],
   "source": [
    "import pandas as pd\n",
    "import numpy as np\n",
    "from sklearn import linear_model\n",
    "from sklearn import metrics\n",
    "import sys\n",
    "if sys.version_info[0] < 3: \n",
    "    from StringIO import StringIO\n",
    "else:\n",
    "    from io import StringIO"
   ]
  },
  {
   "cell_type": "code",
   "execution_count": 2,
   "metadata": {},
   "outputs": [
    {
     "name": "stdout",
     "output_type": "stream",
     "text": [
      "Data: Timestamp, ID, Temperature(celsius), Target_Temperature(celsius), Power, PowerConsumption, ContentType, O2, CO2, Time_Door_Open, Maintenance_Required, Defrost_Cycle\n",
      "2019-04-01 T16:29 Z,1813, 101, 4.291843460900875,4.4,2.870278314651876,10.273342381017777,3,4334.920958996634,4.9631508046318755,1,0,6\n"
     ]
    },
    {
     "data": {
      "text/html": [
       "<div>\n",
       "<style scoped>\n",
       "    .dataframe tbody tr th:only-of-type {\n",
       "        vertical-align: middle;\n",
       "    }\n",
       "\n",
       "    .dataframe tbody tr th {\n",
       "        vertical-align: top;\n",
       "    }\n",
       "\n",
       "    .dataframe thead th {\n",
       "        text-align: right;\n",
       "    }\n",
       "</style>\n",
       "<table border=\"1\" class=\"dataframe\">\n",
       "  <thead>\n",
       "    <tr style=\"text-align: right;\">\n",
       "      <th></th>\n",
       "      <th>Timestamp</th>\n",
       "      <th>ID</th>\n",
       "      <th>Temperature(celsius)</th>\n",
       "      <th>Target_Temperature(celsius)</th>\n",
       "      <th>Power</th>\n",
       "      <th>PowerConsumption</th>\n",
       "      <th>ContentType</th>\n",
       "      <th>O2</th>\n",
       "      <th>CO2</th>\n",
       "      <th>Time_Door_Open</th>\n",
       "      <th>Maintenance_Required</th>\n",
       "      <th>Defrost_Cycle</th>\n",
       "    </tr>\n",
       "  </thead>\n",
       "  <tbody>\n",
       "    <tr>\n",
       "      <td>2019-04-01 T16:29 Z</td>\n",
       "      <td>1813</td>\n",
       "      <td>101</td>\n",
       "      <td>4.291843</td>\n",
       "      <td>4.4</td>\n",
       "      <td>2.870278</td>\n",
       "      <td>10.273342</td>\n",
       "      <td>3</td>\n",
       "      <td>4334.920959</td>\n",
       "      <td>4.963151</td>\n",
       "      <td>1</td>\n",
       "      <td>0</td>\n",
       "      <td>6</td>\n",
       "    </tr>\n",
       "  </tbody>\n",
       "</table>\n",
       "</div>"
      ],
      "text/plain": [
       "                     Timestamp   ID  Temperature(celsius)  \\\n",
       "2019-04-01 T16:29 Z       1813  101              4.291843   \n",
       "\n",
       "                     Target_Temperature(celsius)     Power  PowerConsumption  \\\n",
       "2019-04-01 T16:29 Z                          4.4  2.870278         10.273342   \n",
       "\n",
       "                     ContentType           O2       CO2  Time_Door_Open  \\\n",
       "2019-04-01 T16:29 Z            3  4334.920959  4.963151               1   \n",
       "\n",
       "                     Maintenance_Required  Defrost_Cycle  \n",
       "2019-04-01 T16:29 Z                     0              6  "
      ]
     },
     "execution_count": 2,
     "metadata": {},
     "output_type": "execute_result"
    }
   ],
   "source": [
    "DATA=\"\"\"Timestamp, ID, Temperature(celsius), Target_Temperature(celsius), Power, PowerConsumption, ContentType, O2, CO2, Time_Door_Open, Maintenance_Required, Defrost_Cycle\"\"\"+\"\\n\"+\"\"\"2019-04-01 T16:29 Z,1813, 101, 4.291843460900875,4.4,2.870278314651876,10.273342381017777,3,4334.920958996634,4.9631508046318755,1,0,6\"\"\"\n",
    "\n",
    "print('Data: ' + DATA)\n",
    "TESTDATA = StringIO(DATA)\n",
    "data = pd.read_csv(TESTDATA, sep=\",\")\n",
    "data.columns = data.columns.to_series().apply(lambda x: x.strip())\n",
    "data.head()"
   ]
  },
  {
   "cell_type": "code",
   "execution_count": 3,
   "metadata": {},
   "outputs": [
    {
     "name": "stdout",
     "output_type": "stream",
     "text": [
      "                     Temperature(celsius)  Target_Temperature(celsius)  \\\n",
      "2019-04-01 T16:29 Z              4.291843                          4.4   \n",
      "\n",
      "                        Power  PowerConsumption  ContentType           O2  \\\n",
      "2019-04-01 T16:29 Z  2.870278         10.273342            3  4334.920959   \n",
      "\n",
      "                          CO2  Time_Door_Open  Defrost_Cycle  \n",
      "2019-04-01 T16:29 Z  4.963151               1              6  \n"
     ]
    }
   ],
   "source": [
    "# create a Python list of feature names\n",
    "feature_cols = ['Temperature(celsius)','Target_Temperature(celsius)','Power','PowerConsumption','ContentType','O2','CO2','Time_Door_Open','Defrost_Cycle']\n",
    "# use the list to select a subset of the original DataFrame\n",
    "X = data[feature_cols]\n",
    "print( X )\n",
    "y = data['Maintenance_Required']\n",
    "\n",
    "# print the first 5 rows\n"
   ]
  },
  {
   "cell_type": "code",
   "execution_count": 4,
   "metadata": {},
   "outputs": [],
   "source": [
    "# use pickle to save the model for future loading\n",
    "\n",
    "import pickle\n",
    "\n",
    "# loading the serialized model pickle file\n",
    "model = pickle.load(open(\"model_logistic_regression.pkl\",\"rb\"),encoding='latin1')\n"
   ]
  },
  {
   "cell_type": "code",
   "execution_count": 5,
   "metadata": {},
   "outputs": [
    {
     "name": "stdout",
     "output_type": "stream",
     "text": [
      "X=                       Temperature(celsius)  Target_Temperature(celsius)  \\\n",
      "2019-04-01 T16:29 Z              4.291843                          4.4   \n",
      "\n",
      "                        Power  PowerConsumption  ContentType           O2  \\\n",
      "2019-04-01 T16:29 Z  2.870278         10.273342            3  4334.920959   \n",
      "\n",
      "                          CO2  Time_Door_Open  Defrost_Cycle  \n",
      "2019-04-01 T16:29 Z  4.963151               1              6  \n",
      "prediction is: [1]\n",
      "actual value is:  [0]\n"
     ]
    }
   ],
   "source": [
    "# make predictions on the input set\n",
    "print (\"X= \",X)\n",
    "y_pred = model.predict(X)\n",
    "print ('prediction is:', y_pred)\n",
    "print ('actual value is: ', y.to_numpy())\n",
    "#y_pred.shape\n",
    "#print(np.sqrt(metrics.mean_squared_error(y, y_pred)))"
   ]
  },
  {
   "cell_type": "code",
   "execution_count": null,
   "metadata": {},
   "outputs": [],
   "source": []
  }
 ],
 "metadata": {
  "kernelspec": {
   "display_name": "Python 3",
   "language": "python",
   "name": "python3"
  },
  "language_info": {
   "codemirror_mode": {
    "name": "ipython",
    "version": 3
   },
   "file_extension": ".py",
   "mimetype": "text/x-python",
   "name": "python",
   "nbconvert_exporter": "python",
   "pygments_lexer": "ipython3",
   "version": "3.7.4"
  }
 },
 "nbformat": 4,
 "nbformat_minor": 4
}
